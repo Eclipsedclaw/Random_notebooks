{
 "cells": [
  {
   "cell_type": "code",
   "execution_count": 1,
   "id": "962714d1-06f5-437d-835e-27e946999701",
   "metadata": {},
   "outputs": [
    {
     "data": {
      "text/plain": [
       "'\\nRead and plot ComptonSoft data file\\nAur: Jiancheng Zeng\\nDate: Oct 5, 2023\\n'"
      ]
     },
     "execution_count": 1,
     "metadata": {},
     "output_type": "execute_result"
    }
   ],
   "source": [
    "\"\"\"\n",
    "Read and plot ComptonSoft data file\n",
    "Aur: Jiancheng Zeng\n",
    "Date: Oct 5, 2023\n",
    "\"\"\""
   ]
  },
  {
   "cell_type": "code",
   "execution_count": 2,
   "id": "a9fc153a-a44a-43ed-891e-d7302e0b4ace",
   "metadata": {},
   "outputs": [
    {
     "name": "stdout",
     "output_type": "stream",
     "text": [
      "Welcome to JupyROOT 6.26/10\n"
     ]
    },
    {
     "data": {
      "image/png": "[encoded data removed]",
      "text/plain": [
       "<IPython.core.display.Image object>"
      ]
     },
     "metadata": {},
     "output_type": "display_data"
    }
   ],
   "source": [
    "import ROOT\n",
    "import numpy as np\n",
    "from ROOT import TCanvas, TH1F\n",
    "\n",
    "# Initialize the PyROOT environment\n",
    "ROOT.gROOT.Reset()\n",
    "\n",
    "# Create some sample data\n",
    "data = np.random.normal(0, 1, 1000)  # Generate 1000 random numbers with a mean of 0 and standard deviation of 1\n",
    "\n",
    "# Create a TH1F (1D histogram) to hold the data\n",
    "histogram = TH1F(\"histogram\", \"My Histogram\", 20, -3, 3)  # 20 bins from -3 to 3\n",
    "\n",
    "# Fill the histogram with the sample data\n",
    "for value in data:\n",
    "    histogram.Fill(value)\n",
    "\n",
    "# Create a canvas to draw the histogram\n",
    "canvas = TCanvas(\"canvas\", \"PyROOT Histogram\", 800, 600)\n",
    "\n",
    "# Customize the appearance of the histogram\n",
    "histogram.SetTitle(\"My PyROOT Histogram\")\n",
    "histogram.GetXaxis().SetTitle(\"X-axis\")\n",
    "histogram.GetYaxis().SetTitle(\"Y-axis\")\n",
    "\n",
    "# Draw the histogram on the canvas\n",
    "histogram.Draw()\n",
    "\n",
    "# Show the canvas in the Jupyter Notebook\n",
    "from ROOT import gROOT\n",
    "gROOT.GetListOfCanvases().Draw()\n"
   ]
  },
  {
   "cell_type": "code",
   "execution_count": null,
   "id": "d5522757-6c9d-46f2-9587-32ec24464a8c",
   "metadata": {},
   "outputs": [],
   "source": [
    "import ROOT\n",
    "\n",
    "# Specify the path to your ROOT file\n",
    "file_path = \"/home/jiancheng/GRAMS/Random_notebooks/ComptonSoft_testdata.root\"\n",
    "\n",
    "try:\n",
    "    file = ROOT.TFile.Open(file_path, \"READ\")\n",
    "    if not file.IsOpen():\n",
    "        print(\"Failed to open the file.\")\n",
    "    else:\n",
    "        # Get the TTree named \"hittree\" from the file\n",
    "        tree = file.Get(\"hittree\")\n",
    "\n",
    "        if not tree:\n",
    "            print(\"TTree 'hittree' not found in the file.\")\n",
    "        else:\n",
    "            # Access the TBranch \"ihit\"\n",
    "            branch = tree.GetBranch(\"ihit\")\n",
    "            \n",
    "            if not branch:\n",
    "                print(\"TBranch 'ihit' not found in the TTree.\")\n",
    "            else:\n",
    "                # Create a TH1F (1D histogram) to hold the data\n",
    "                histogram = ROOT.TH1F(\"ihit_histogram\", \"Histogram of ihit\", 20, -10, 10)  # Adjust the range and binning\n",
    "\n",
    "                # Loop through the entries and fill the histogram\n",
    "                for entry in range(tree.GetEntries()):\n",
    "                    branch.GetEntry(entry)\n",
    "                    ihit_value = branch.GetLeaf(\"ihit\").GetValue()\n",
    "                    histogram.Fill(ihit_value)\n",
    "\n",
    "                # Create a canvas to display the histogram\n",
    "                canvas = ROOT.TCanvas(\"canvas\", \"ihit Histogram\", 800, 600)\n",
    "\n",
    "                # Draw the histogram\n",
    "                histogram.Draw()\n",
    "\n",
    "                # Show the canvas\n",
    "                canvas.Update()\n",
    "                canvas.Modified()\n",
    "\n",
    "                # Run the event loop to display the canvas\n",
    "                ROOT.gApplication.Run()\n",
    "\n",
    "        file.Close()\n",
    "except Exception as e:\n",
    "    print(f\"Error: {str(e)}\")\n",
    "\n"
   ]
  },
  {
   "cell_type": "code",
   "execution_count": null,
   "id": "bde3101e-1773-454c-ac35-076edb0d6451",
   "metadata": {},
   "outputs": [],
   "source": []
  }
 ],
 "metadata": {
  "kernelspec": {
   "display_name": "Python 3 (ipykernel)",
   "language": "python",
   "name": "python3"
  },
  "language_info": {
   "codemirror_mode": {
    "name": "ipython",
    "version": 3
   },
   "file_extension": ".py",
   "mimetype": "text/x-python",
   "name": "python",
   "nbconvert_exporter": "python",
   "pygments_lexer": "ipython3",
   "version": "3.10.12"
  }
 },
 "nbformat": 4,
 "nbformat_minor": 5
}
