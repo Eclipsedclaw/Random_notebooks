{
 "cells": [
  {
   "cell_type": "code",
   "execution_count": null,
   "id": "962714d1-06f5-437d-835e-27e946999701",
   "metadata": {},
   "outputs": [],
   "source": [
    "\"\"\"\n",
    "Read and plot ComptonSoft data file\n",
    "Aur: Jiancheng Zeng\n",
    "Date: Oct 5, 2023\n",
    "\"\"\""
   ]
  },
  {
   "cell_type": "code",
   "execution_count": 3,
   "id": "a9fc153a-a44a-43ed-891e-d7302e0b4ace",
   "metadata": {},
   "outputs": [
    {
     "name": "stderr",
     "output_type": "stream",
     "text": [
      "Warning in <TCanvas::Constructor>: Deleting canvas with same name: canvas\n"
     ]
    },
    {
     "data": {
      "image/png": "[encoded data removed]",
      "text/plain": [
       "<IPython.core.display.Image object>"
      ]
     },
     "metadata": {},
     "output_type": "display_data"
    }
   ],
   "source": [
    "import ROOT\n",
    "import numpy as np\n",
    "from ROOT import TCanvas, TH1F\n",
    "\n",
    "# Initialize the PyROOT environment\n",
    "ROOT.gROOT.Reset()\n",
    "\n",
    "# Create some sample data\n",
    "data = np.random.normal(0, 1, 1000)  # Generate 1000 random numbers with a mean of 0 and standard deviation of 1\n",
    "\n",
    "# Create a TH1F (1D histogram) to hold the data\n",
    "histogram = TH1F(\"histogram\", \"My Histogram\", 20, -3, 3)  # 20 bins from -3 to 3\n",
    "\n",
    "# Fill the histogram with the sample data\n",
    "for value in data:\n",
    "    histogram.Fill(value)\n",
    "\n",
    "# Create a canvas to draw the histogram\n",
    "canvas = TCanvas(\"canvas\", \"PyROOT Histogram\", 800, 600)\n",
    "\n",
    "# Customize the appearance of the histogram\n",
    "histogram.SetTitle(\"My PyROOT Histogram\")\n",
    "histogram.GetXaxis().SetTitle(\"X-axis\")\n",
    "histogram.GetYaxis().SetTitle(\"Y-axis\")\n",
    "\n",
    "# Draw the histogram on the canvas\n",
    "histogram.Draw()\n",
    "\n",
    "# Show the canvas in the Jupyter Notebook\n",
    "from ROOT import gROOT\n",
    "gROOT.GetListOfCanvases().Draw()\n"
   ]
  },
  {
   "cell_type": "code",
   "execution_count": 54,
   "id": "5c6cd649-9871-42c7-996e-c7a5d60372e4",
   "metadata": {},
   "outputs": [
    {
     "ename": "TypeError",
     "evalue": "int TBranch::GetEntry(Long64_t entry = 0, int getall = 0) =>\n    TypeError: could not convert argument 1 ('TTree' object cannot be interpreted as an integer)",
     "output_type": "error",
     "traceback": [
      "\u001b[0;31m---------------------------------------------------------------------------\u001b[0m",
      "\u001b[0;31mTypeError\u001b[0m                                 Traceback (most recent call last)",
      "Cell \u001b[0;32mIn [54], line 20\u001b[0m\n\u001b[1;32m     18\u001b[0m \u001b[38;5;66;03m# Loop through the entries\u001b[39;00m\n\u001b[1;32m     19\u001b[0m \u001b[38;5;28;01mfor\u001b[39;00m entry \u001b[38;5;129;01min\u001b[39;00m tree:\n\u001b[0;32m---> 20\u001b[0m     \u001b[43mbranch\u001b[49m\u001b[38;5;241;43m.\u001b[39;49m\u001b[43mGetEntry\u001b[49m\u001b[43m(\u001b[49m\u001b[43mentry\u001b[49m\u001b[43m)\u001b[49m\n\u001b[1;32m     22\u001b[0m     \u001b[38;5;66;03m# Access and work with the ihit_data vector\u001b[39;00m\n\u001b[1;32m     23\u001b[0m     \u001b[38;5;28;01mfor\u001b[39;00m value \u001b[38;5;129;01min\u001b[39;00m ihit_data:\n",
      "\u001b[0;31mTypeError\u001b[0m: int TBranch::GetEntry(Long64_t entry = 0, int getall = 0) =>\n    TypeError: could not convert argument 1 ('TTree' object cannot be interpreted as an integer)"
     ]
    },
    {
     "name": "stdout",
     "output_type": "stream",
     "text": [
      "TFile**\t\tComptonSoft_testdata.root\t\n",
      " TFile*\t\tComptonSoft_testdata.root\t\n",
      "  KEY: TTree\thittree;1\thittree\n"
     ]
    }
   ],
   "source": [
    "import ROOT\n",
    "\n",
    "# Open the ROOT file for reading\n",
    "file = ROOT.TFile.Open(\"ComptonSoft_testdata.root\", \"READ\")\n",
    "\n",
    "# Print the list of objects in the file\n",
    "file.ls()\n",
    "\n",
    "# Get the TTree from the file\n",
    "tree = file.Get(\"hittree\")\n",
    "\n",
    "# Replace \"your_branch_name\" with the name of the TBranch you want to access\n",
    "branch = tree.GetBranch(\"ihit\")\n",
    "\n",
    "ihit_data = ROOT.std.vector(\"int\")()\n",
    "# Set the TBranch address to the buffer\n",
    "branch.SetAddress(ihit_data)\n",
    "# Loop through the entries\n",
    "for entry in tree:\n",
    "    branch.GetEntry(entry)\n",
    "    \n",
    "    # Access and work with the ihit_data vector\n",
    "    for value in ihit_data:\n",
    "        print(\"ihit Value:\", value)\n",
    "\n",
    "# Close the ROOT file when done\n",
    "file.Close()"
   ]
  },
  {
   "cell_type": "code",
   "execution_count": 39,
   "id": "dc52b576-97fa-43fa-8581-cd20b52eedbc",
   "metadata": {},
   "outputs": [
    {
     "ename": "TypeError",
     "evalue": "int TBranch::GetEntry(Long64_t entry = 0, int getall = 0) =>\n    TypeError: could not convert argument 1 ('TTree' object cannot be interpreted as an integer)",
     "output_type": "error",
     "traceback": [
      "\u001b[0;31m---------------------------------------------------------------------------\u001b[0m",
      "\u001b[0;31mTypeError\u001b[0m                                 Traceback (most recent call last)",
      "Cell \u001b[0;32mIn [39], line 29\u001b[0m\n\u001b[1;32m     26\u001b[0m tbranch\u001b[38;5;241m.\u001b[39mSetAddress(data)\n\u001b[1;32m     28\u001b[0m \u001b[38;5;66;03m# Get the TBranch data\u001b[39;00m\n\u001b[0;32m---> 29\u001b[0m \u001b[43mtbranch\u001b[49m\u001b[38;5;241;43m.\u001b[39;49m\u001b[43mGetEntry\u001b[49m\u001b[43m(\u001b[49m\u001b[43mentry\u001b[49m\u001b[43m)\u001b[49m\n\u001b[1;32m     31\u001b[0m \u001b[38;5;66;03m# Append the data to the list\u001b[39;00m\n\u001b[1;32m     32\u001b[0m data_list\u001b[38;5;241m.\u001b[39mappend(data[\u001b[38;5;241m0\u001b[39m])\n",
      "\u001b[0;31mTypeError\u001b[0m: int TBranch::GetEntry(Long64_t entry = 0, int getall = 0) =>\n    TypeError: could not convert argument 1 ('TTree' object cannot be interpreted as an integer)"
     ]
    }
   ],
   "source": [
    "import ROOT\n",
    "import numpy as np\n",
    "import matplotlib.pyplot as plt\n",
    "\n",
    "# Initialize the PyROOT environment\n",
    "ROOT.gROOT.Reset()\n",
    "\n",
    "# Open the ROOT file containing the TTree\n",
    "file = ROOT.TFile.Open(\"./ComptonSoft_testdata.root\", \"READ\")\n",
    "\n",
    "# Get the TTree from the file\n",
    "tree = file.Get(\"hittree\")  # Replace \"your_tree_name\" with the actual TTree name\n",
    "\n",
    "# Access the TBranch you want to plot\n",
    "tbranch = tree.GetBranch(\"ihit\")  # Replace \"your_tbranch_name\" with the actual TBranch name\n",
    "\n",
    "# Create an empty list to store the data\n",
    "data_list = []\n",
    "\n",
    "# Loop through the entries and fill the list\n",
    "for entry in tree:\n",
    "    # Create a buffer to store the TBranch data\n",
    "    data = np.zeros(1, dtype=float)  # Assuming the data is of type float; adjust as needed\n",
    "\n",
    "    # Set the TBranch address to the buffer\n",
    "    tbranch.SetAddress(data)\n",
    "\n",
    "    # Get the TBranch data\n",
    "    tbranch.GetEntry(entry)\n",
    "\n",
    "    # Append the data to the list\n",
    "    data_list.append(data[0])\n",
    "\n",
    "# Close the ROOT file when you're done\n",
    "file.Close()\n",
    "\n",
    "# Create a histogram using matplotlib\n",
    "plt.figure(figsize=(8, 6))\n",
    "plt.hist(data_list, bins=20, range=(-3, 3), color='b', alpha=0.7, label='Data')\n",
    "plt.xlabel('X-axis label')\n",
    "plt.ylabel('Y-axis label')\n",
    "plt.title('Your Histogram Title')\n",
    "plt.legend()\n",
    "plt.grid(True)\n",
    "plt.show()\n"
   ]
  },
  {
   "cell_type": "code",
   "execution_count": null,
   "id": "bde3101e-1773-454c-ac35-076edb0d6451",
   "metadata": {},
   "outputs": [],
   "source": []
  }
 ],
 "metadata": {
  "kernelspec": {
   "display_name": "Python 3 (ipykernel)",
   "language": "python",
   "name": "python3"
  },
  "language_info": {
   "codemirror_mode": {
    "name": "ipython",
    "version": 3
   },
   "file_extension": ".py",
   "mimetype": "text/x-python",
   "name": "python",
   "nbconvert_exporter": "python",
   "pygments_lexer": "ipython3",
   "version": "3.10.12"
  }
 },
 "nbformat": 4,
 "nbformat_minor": 5
}
